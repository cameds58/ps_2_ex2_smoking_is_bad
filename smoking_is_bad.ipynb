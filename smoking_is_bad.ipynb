{
 "cells": [
  {
   "cell_type": "markdown",
   "metadata": {},
   "source": [
    "# Smoking is bad"
   ]
  },
  {
   "cell_type": "code",
   "execution_count": null,
   "metadata": {},
   "outputs": [],
   "source": [
    "# TODO: install all the necessary packages\n",
    "import pandas as pd\n",
    "import pathlib\n",
    "import matplotlib.pyplot as plt\n",
    "import numpy as np\n",
    "import seaborn as sns"
   ]
  },
  {
   "cell_type": "code",
   "execution_count": null,
   "metadata": {
    "tags": []
   },
   "outputs": [],
   "source": [
    "# TODO: load the data using the pathlib library to create the path to your data\n",
    "DATAPATH = pathlib.Path.cwd().parent / \"ps_2_ex2_smoking_is_bad\" / \"data\" / \"smoking_data.csv\"\n",
    "df = pd.read_csv(DATAPATH)\n",
    "df"
   ]
  },
  {
   "cell_type": "code",
   "execution_count": null,
   "metadata": {
    "tags": []
   },
   "outputs": [],
   "source": [
    "# TODO: what are the dimensions of the data frame?\n",
    "df.shape"
   ]
  },
  {
   "cell_type": "code",
   "execution_count": null,
   "metadata": {
    "tags": []
   },
   "outputs": [],
   "source": [
    "# TODO: use .describe() on your data frame: what do you notice about the string columns?\n",
    "# The default behave of describe() only provide a summary for the numerical columns. \n",
    "# But use DataFrame.describe(include = 'all') can get a summary of all the columns when the dataframe has mixed column types. \n",
    "df.describe(include = \"all\")"
   ]
  },
  {
   "cell_type": "code",
   "execution_count": null,
   "metadata": {
    "tags": []
   },
   "outputs": [],
   "source": [
    "# TODO: do not forget to check the null values\n",
    "df.isnull().sum()"
   ]
  },
  {
   "cell_type": "code",
   "execution_count": null,
   "metadata": {
    "tags": []
   },
   "outputs": [],
   "source": [
    "\n",
    "# avg_salary = df['salary'].mean()\n",
    "# df['salary'] = df['salary'].fillna(avg_salary)\n",
    "\n",
    "# Calculate the mean salary for each gender\n",
    "mean_salaries = df.groupby('gender')['salary'].mean()\n",
    "\n",
    "print(mean_salaries)\n",
    "\n",
    "# Impute missing salary values with the gender-specific means\n",
    "df['salary'] = df.apply(\n",
    "    lambda row: mean_salaries[row['gender']] if pd.isnull(row['salary']) else row['salary'],\n",
    "    axis=1\n",
    ")"
   ]
  },
  {
   "cell_type": "code",
   "execution_count": null,
   "metadata": {},
   "outputs": [],
   "source": [
    "# Drop unnecessary indexing column\n",
    "df.drop(columns=['Unnamed: 0'], inplace=True)"
   ]
  },
  {
   "cell_type": "code",
   "execution_count": null,
   "metadata": {
    "tags": []
   },
   "outputs": [],
   "source": [
    "# TODO: prepare your data frame so that you can work with\n",
    "df['outcome'] = df['outcome'].map({'Alive': 1, 'Dead': 0})"
   ]
  },
  {
   "cell_type": "markdown",
   "metadata": {},
   "source": [
    "## Smoking analysis\n",
    "Let's first check what your cousin did."
   ]
  },
  {
   "cell_type": "code",
   "execution_count": null,
   "metadata": {
    "tags": []
   },
   "outputs": [],
   "source": [
    "# TODO: Reimplement the small code snippet described in the problem set instructions.\n",
    "df.groupby(['smoker']).agg(prob=(\"outcome\", np.mean))"
   ]
  },
  {
   "cell_type": "markdown",
   "metadata": {},
   "source": [
    "You should get the same results."
   ]
  },
  {
   "cell_type": "markdown",
   "metadata": {
    "tags": []
   },
   "source": [
    "# Is smoking really good?\n",
    "Now it is up to you to run the analysis further and check what could be underlying your cousings results."
   ]
  },
  {
   "cell_type": "code",
   "execution_count": null,
   "metadata": {
    "tags": []
   },
   "outputs": [],
   "source": [
    "# What is the averaage age of people dead of smoking? \n",
    "# On average, smokers die approximately 8.5 years earlier than non-smokers.\n",
    "df_cat = df.groupby(['smoker', 'outcome']).agg(avg_age=('age', np.mean))\n",
    "print(df_cat)"
   ]
  },
  {
   "cell_type": "code",
   "execution_count": null,
   "metadata": {
    "tags": []
   },
   "outputs": [],
   "source": [
    "g = sns.catplot(\n",
    "    data=df, x=\"outcome\", y=\"age\", col=\"smoker\",\n",
    "    kind=\"bar\", height=4, aspect=.6, \n",
    ")\n",
    "g.set_axis_labels('Outcome', 'Average Age')\n",
    "g.set_xticklabels([\"Dead\", \"Alive\"])\n",
    "plt.tight_layout()\n",
    "plt.show()"
   ]
  }
 ],
 "metadata": {
  "kernelspec": {
   "display_name": "Branch (kernel_py311-py311)",
   "language": "python",
   "name": "virtualenv_kernel_py311.bin.py-py311"
  },
  "language_info": {
   "codemirror_mode": {
    "name": "ipython",
    "version": 3
   },
   "file_extension": ".py",
   "mimetype": "text/x-python",
   "name": "python",
   "nbconvert_exporter": "python",
   "pygments_lexer": "ipython3",
   "version": "3.11.4"
  }
 },
 "nbformat": 4,
 "nbformat_minor": 4
}
